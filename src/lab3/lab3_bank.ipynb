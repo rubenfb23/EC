{
 "cells": [
  {
   "cell_type": "markdown",
   "id": "7b4af100",
   "metadata": {},
   "source": [
    "# Lab 3 - Clustering banco\n",
    "\n",
    "En este cuaderno exploro el dataset del banco con la idea de agrupar clientes usando clustering. Es un enfoque sencillo, paso a paso, para practicar sin cosas avanzadas."
   ]
  },
  {
   "cell_type": "code",
   "execution_count": 16,
   "id": "eaf8d3b3",
   "metadata": {},
   "outputs": [],
   "source": [
    "import pandas as pd\n",
    "import matplotlib.pyplot as plt\n",
    "from sklearn.preprocessing import StandardScaler\n",
    "from sklearn.cluster import KMeans\n",
    "from sklearn.cluster import DBSCAN\n",
    "from sklearn.decomposition import PCA\n",
    "from sklearn.metrics import silhouette_score, silhouette_samples\n",
    "from scipy.cluster.hierarchy import linkage, dendrogram\n",
    "from yellowbrick.cluster import KElbowVisualizer\n",
    "import numpy as np\n",
    "from matplotlib import cm\n"
   ]
  },
  {
   "cell_type": "markdown",
   "id": "c15c8086",
   "metadata": {},
   "source": [
    "## 1. Cargar el dataset\n",
    "\n",
    "Primero leo el archivo `bank-additional-full.csv` para tener los datos en un DataFrame."
   ]
  },
  {
   "cell_type": "code",
   "execution_count": 17,
   "id": "c4214df3",
   "metadata": {},
   "outputs": [
    {
     "name": "stdout",
     "output_type": "stream",
     "text": [
      "Dimensiones del dataset: (41188, 21)\n"
     ]
    },
    {
     "data": {
      "text/html": [
       "<div>\n",
       "<style scoped>\n",
       "    .dataframe tbody tr th:only-of-type {\n",
       "        vertical-align: middle;\n",
       "    }\n",
       "\n",
       "    .dataframe tbody tr th {\n",
       "        vertical-align: top;\n",
       "    }\n",
       "\n",
       "    .dataframe thead th {\n",
       "        text-align: right;\n",
       "    }\n",
       "</style>\n",
       "<table border=\"1\" class=\"dataframe\">\n",
       "  <thead>\n",
       "    <tr style=\"text-align: right;\">\n",
       "      <th></th>\n",
       "      <th>age</th>\n",
       "      <th>job</th>\n",
       "      <th>marital</th>\n",
       "      <th>education</th>\n",
       "      <th>default</th>\n",
       "      <th>housing</th>\n",
       "      <th>loan</th>\n",
       "      <th>contact</th>\n",
       "      <th>month</th>\n",
       "      <th>day_of_week</th>\n",
       "      <th>...</th>\n",
       "      <th>campaign</th>\n",
       "      <th>pdays</th>\n",
       "      <th>previous</th>\n",
       "      <th>poutcome</th>\n",
       "      <th>emp.var.rate</th>\n",
       "      <th>cons.price.idx</th>\n",
       "      <th>cons.conf.idx</th>\n",
       "      <th>euribor3m</th>\n",
       "      <th>nr.employed</th>\n",
       "      <th>y</th>\n",
       "    </tr>\n",
       "  </thead>\n",
       "  <tbody>\n",
       "    <tr>\n",
       "      <th>0</th>\n",
       "      <td>56</td>\n",
       "      <td>housemaid</td>\n",
       "      <td>married</td>\n",
       "      <td>basic.4y</td>\n",
       "      <td>no</td>\n",
       "      <td>no</td>\n",
       "      <td>no</td>\n",
       "      <td>telephone</td>\n",
       "      <td>may</td>\n",
       "      <td>mon</td>\n",
       "      <td>...</td>\n",
       "      <td>1</td>\n",
       "      <td>999</td>\n",
       "      <td>0</td>\n",
       "      <td>nonexistent</td>\n",
       "      <td>1.1</td>\n",
       "      <td>93.994</td>\n",
       "      <td>-36.4</td>\n",
       "      <td>4.857</td>\n",
       "      <td>5191.0</td>\n",
       "      <td>no</td>\n",
       "    </tr>\n",
       "    <tr>\n",
       "      <th>1</th>\n",
       "      <td>57</td>\n",
       "      <td>services</td>\n",
       "      <td>married</td>\n",
       "      <td>high.school</td>\n",
       "      <td>unknown</td>\n",
       "      <td>no</td>\n",
       "      <td>no</td>\n",
       "      <td>telephone</td>\n",
       "      <td>may</td>\n",
       "      <td>mon</td>\n",
       "      <td>...</td>\n",
       "      <td>1</td>\n",
       "      <td>999</td>\n",
       "      <td>0</td>\n",
       "      <td>nonexistent</td>\n",
       "      <td>1.1</td>\n",
       "      <td>93.994</td>\n",
       "      <td>-36.4</td>\n",
       "      <td>4.857</td>\n",
       "      <td>5191.0</td>\n",
       "      <td>no</td>\n",
       "    </tr>\n",
       "    <tr>\n",
       "      <th>2</th>\n",
       "      <td>37</td>\n",
       "      <td>services</td>\n",
       "      <td>married</td>\n",
       "      <td>high.school</td>\n",
       "      <td>no</td>\n",
       "      <td>yes</td>\n",
       "      <td>no</td>\n",
       "      <td>telephone</td>\n",
       "      <td>may</td>\n",
       "      <td>mon</td>\n",
       "      <td>...</td>\n",
       "      <td>1</td>\n",
       "      <td>999</td>\n",
       "      <td>0</td>\n",
       "      <td>nonexistent</td>\n",
       "      <td>1.1</td>\n",
       "      <td>93.994</td>\n",
       "      <td>-36.4</td>\n",
       "      <td>4.857</td>\n",
       "      <td>5191.0</td>\n",
       "      <td>no</td>\n",
       "    </tr>\n",
       "    <tr>\n",
       "      <th>3</th>\n",
       "      <td>40</td>\n",
       "      <td>admin.</td>\n",
       "      <td>married</td>\n",
       "      <td>basic.6y</td>\n",
       "      <td>no</td>\n",
       "      <td>no</td>\n",
       "      <td>no</td>\n",
       "      <td>telephone</td>\n",
       "      <td>may</td>\n",
       "      <td>mon</td>\n",
       "      <td>...</td>\n",
       "      <td>1</td>\n",
       "      <td>999</td>\n",
       "      <td>0</td>\n",
       "      <td>nonexistent</td>\n",
       "      <td>1.1</td>\n",
       "      <td>93.994</td>\n",
       "      <td>-36.4</td>\n",
       "      <td>4.857</td>\n",
       "      <td>5191.0</td>\n",
       "      <td>no</td>\n",
       "    </tr>\n",
       "    <tr>\n",
       "      <th>4</th>\n",
       "      <td>56</td>\n",
       "      <td>services</td>\n",
       "      <td>married</td>\n",
       "      <td>high.school</td>\n",
       "      <td>no</td>\n",
       "      <td>no</td>\n",
       "      <td>yes</td>\n",
       "      <td>telephone</td>\n",
       "      <td>may</td>\n",
       "      <td>mon</td>\n",
       "      <td>...</td>\n",
       "      <td>1</td>\n",
       "      <td>999</td>\n",
       "      <td>0</td>\n",
       "      <td>nonexistent</td>\n",
       "      <td>1.1</td>\n",
       "      <td>93.994</td>\n",
       "      <td>-36.4</td>\n",
       "      <td>4.857</td>\n",
       "      <td>5191.0</td>\n",
       "      <td>no</td>\n",
       "    </tr>\n",
       "  </tbody>\n",
       "</table>\n",
       "<p>5 rows × 21 columns</p>\n",
       "</div>"
      ],
      "text/plain": [
       "   age        job  marital    education  default housing loan    contact  \\\n",
       "0   56  housemaid  married     basic.4y       no      no   no  telephone   \n",
       "1   57   services  married  high.school  unknown      no   no  telephone   \n",
       "2   37   services  married  high.school       no     yes   no  telephone   \n",
       "3   40     admin.  married     basic.6y       no      no   no  telephone   \n",
       "4   56   services  married  high.school       no      no  yes  telephone   \n",
       "\n",
       "  month day_of_week  ...  campaign  pdays  previous     poutcome emp.var.rate  \\\n",
       "0   may         mon  ...         1    999         0  nonexistent          1.1   \n",
       "1   may         mon  ...         1    999         0  nonexistent          1.1   \n",
       "2   may         mon  ...         1    999         0  nonexistent          1.1   \n",
       "3   may         mon  ...         1    999         0  nonexistent          1.1   \n",
       "4   may         mon  ...         1    999         0  nonexistent          1.1   \n",
       "\n",
       "   cons.price.idx  cons.conf.idx  euribor3m  nr.employed   y  \n",
       "0          93.994          -36.4      4.857       5191.0  no  \n",
       "1          93.994          -36.4      4.857       5191.0  no  \n",
       "2          93.994          -36.4      4.857       5191.0  no  \n",
       "3          93.994          -36.4      4.857       5191.0  no  \n",
       "4          93.994          -36.4      4.857       5191.0  no  \n",
       "\n",
       "[5 rows x 21 columns]"
      ]
     },
     "execution_count": 17,
     "metadata": {},
     "output_type": "execute_result"
    }
   ],
   "source": [
    "data_path = '../../dataset/bank-additional-full.csv'\n",
    "bank = pd.read_csv(data_path, sep=';')\n",
    "print('Dimensiones del dataset:', bank.shape)\n",
    "bank.head()\n"
   ]
  },
  {
   "cell_type": "markdown",
   "id": "3bb03949",
   "metadata": {},
   "source": [
    "## 2. Identificar columnas numericas\n",
    "\n",
    "Para el clustering voy a usar solo columnas numericas porque es la forma mas sencilla de empezar. Reviso cuales son y obtengo un resumen rapido."
   ]
  },
  {
   "cell_type": "code",
   "execution_count": 18,
   "id": "da1eb04f",
   "metadata": {},
   "outputs": [
    {
     "name": "stdout",
     "output_type": "stream",
     "text": [
      "Columnas numericas: ['age', 'duration', 'campaign', 'pdays', 'previous', 'emp.var.rate', 'cons.price.idx', 'cons.conf.idx', 'euribor3m', 'nr.employed']\n"
     ]
    },
    {
     "data": {
      "text/html": [
       "<div>\n",
       "<style scoped>\n",
       "    .dataframe tbody tr th:only-of-type {\n",
       "        vertical-align: middle;\n",
       "    }\n",
       "\n",
       "    .dataframe tbody tr th {\n",
       "        vertical-align: top;\n",
       "    }\n",
       "\n",
       "    .dataframe thead th {\n",
       "        text-align: right;\n",
       "    }\n",
       "</style>\n",
       "<table border=\"1\" class=\"dataframe\">\n",
       "  <thead>\n",
       "    <tr style=\"text-align: right;\">\n",
       "      <th></th>\n",
       "      <th>age</th>\n",
       "      <th>duration</th>\n",
       "      <th>campaign</th>\n",
       "      <th>pdays</th>\n",
       "      <th>previous</th>\n",
       "      <th>emp.var.rate</th>\n",
       "      <th>cons.price.idx</th>\n",
       "      <th>cons.conf.idx</th>\n",
       "      <th>euribor3m</th>\n",
       "      <th>nr.employed</th>\n",
       "    </tr>\n",
       "  </thead>\n",
       "  <tbody>\n",
       "    <tr>\n",
       "      <th>count</th>\n",
       "      <td>41188.00000</td>\n",
       "      <td>41188.000000</td>\n",
       "      <td>41188.000000</td>\n",
       "      <td>41188.000000</td>\n",
       "      <td>41188.000000</td>\n",
       "      <td>41188.000000</td>\n",
       "      <td>41188.000000</td>\n",
       "      <td>41188.000000</td>\n",
       "      <td>41188.000000</td>\n",
       "      <td>41188.000000</td>\n",
       "    </tr>\n",
       "    <tr>\n",
       "      <th>mean</th>\n",
       "      <td>40.02406</td>\n",
       "      <td>258.285010</td>\n",
       "      <td>2.567593</td>\n",
       "      <td>962.475454</td>\n",
       "      <td>0.172963</td>\n",
       "      <td>0.081886</td>\n",
       "      <td>93.575664</td>\n",
       "      <td>-40.502600</td>\n",
       "      <td>3.621291</td>\n",
       "      <td>5167.035911</td>\n",
       "    </tr>\n",
       "    <tr>\n",
       "      <th>std</th>\n",
       "      <td>10.42125</td>\n",
       "      <td>259.279249</td>\n",
       "      <td>2.770014</td>\n",
       "      <td>186.910907</td>\n",
       "      <td>0.494901</td>\n",
       "      <td>1.570960</td>\n",
       "      <td>0.578840</td>\n",
       "      <td>4.628198</td>\n",
       "      <td>1.734447</td>\n",
       "      <td>72.251528</td>\n",
       "    </tr>\n",
       "    <tr>\n",
       "      <th>min</th>\n",
       "      <td>17.00000</td>\n",
       "      <td>0.000000</td>\n",
       "      <td>1.000000</td>\n",
       "      <td>0.000000</td>\n",
       "      <td>0.000000</td>\n",
       "      <td>-3.400000</td>\n",
       "      <td>92.201000</td>\n",
       "      <td>-50.800000</td>\n",
       "      <td>0.634000</td>\n",
       "      <td>4963.600000</td>\n",
       "    </tr>\n",
       "    <tr>\n",
       "      <th>25%</th>\n",
       "      <td>32.00000</td>\n",
       "      <td>102.000000</td>\n",
       "      <td>1.000000</td>\n",
       "      <td>999.000000</td>\n",
       "      <td>0.000000</td>\n",
       "      <td>-1.800000</td>\n",
       "      <td>93.075000</td>\n",
       "      <td>-42.700000</td>\n",
       "      <td>1.344000</td>\n",
       "      <td>5099.100000</td>\n",
       "    </tr>\n",
       "    <tr>\n",
       "      <th>50%</th>\n",
       "      <td>38.00000</td>\n",
       "      <td>180.000000</td>\n",
       "      <td>2.000000</td>\n",
       "      <td>999.000000</td>\n",
       "      <td>0.000000</td>\n",
       "      <td>1.100000</td>\n",
       "      <td>93.749000</td>\n",
       "      <td>-41.800000</td>\n",
       "      <td>4.857000</td>\n",
       "      <td>5191.000000</td>\n",
       "    </tr>\n",
       "    <tr>\n",
       "      <th>75%</th>\n",
       "      <td>47.00000</td>\n",
       "      <td>319.000000</td>\n",
       "      <td>3.000000</td>\n",
       "      <td>999.000000</td>\n",
       "      <td>0.000000</td>\n",
       "      <td>1.400000</td>\n",
       "      <td>93.994000</td>\n",
       "      <td>-36.400000</td>\n",
       "      <td>4.961000</td>\n",
       "      <td>5228.100000</td>\n",
       "    </tr>\n",
       "    <tr>\n",
       "      <th>max</th>\n",
       "      <td>98.00000</td>\n",
       "      <td>4918.000000</td>\n",
       "      <td>56.000000</td>\n",
       "      <td>999.000000</td>\n",
       "      <td>7.000000</td>\n",
       "      <td>1.400000</td>\n",
       "      <td>94.767000</td>\n",
       "      <td>-26.900000</td>\n",
       "      <td>5.045000</td>\n",
       "      <td>5228.100000</td>\n",
       "    </tr>\n",
       "  </tbody>\n",
       "</table>\n",
       "</div>"
      ],
      "text/plain": [
       "               age      duration      campaign         pdays      previous  \\\n",
       "count  41188.00000  41188.000000  41188.000000  41188.000000  41188.000000   \n",
       "mean      40.02406    258.285010      2.567593    962.475454      0.172963   \n",
       "std       10.42125    259.279249      2.770014    186.910907      0.494901   \n",
       "min       17.00000      0.000000      1.000000      0.000000      0.000000   \n",
       "25%       32.00000    102.000000      1.000000    999.000000      0.000000   \n",
       "50%       38.00000    180.000000      2.000000    999.000000      0.000000   \n",
       "75%       47.00000    319.000000      3.000000    999.000000      0.000000   \n",
       "max       98.00000   4918.000000     56.000000    999.000000      7.000000   \n",
       "\n",
       "       emp.var.rate  cons.price.idx  cons.conf.idx     euribor3m   nr.employed  \n",
       "count  41188.000000    41188.000000   41188.000000  41188.000000  41188.000000  \n",
       "mean       0.081886       93.575664     -40.502600      3.621291   5167.035911  \n",
       "std        1.570960        0.578840       4.628198      1.734447     72.251528  \n",
       "min       -3.400000       92.201000     -50.800000      0.634000   4963.600000  \n",
       "25%       -1.800000       93.075000     -42.700000      1.344000   5099.100000  \n",
       "50%        1.100000       93.749000     -41.800000      4.857000   5191.000000  \n",
       "75%        1.400000       93.994000     -36.400000      4.961000   5228.100000  \n",
       "max        1.400000       94.767000     -26.900000      5.045000   5228.100000  "
      ]
     },
     "execution_count": 18,
     "metadata": {},
     "output_type": "execute_result"
    }
   ],
   "source": [
    "numeric_cols = bank.select_dtypes(include=['int64', 'float64']).columns.tolist()\n",
    "print('Columnas numericas:', numeric_cols)\n",
    "\n",
    "bank_numeric = bank[numeric_cols].copy()\n",
    "bank_numeric.describe()\n"
   ]
  },
  {
   "cell_type": "markdown",
   "id": "9e105a67",
   "metadata": {},
   "source": [
    "Tambien verifico si hay valores faltantes. Si no hay, puedo seguir sin limpiar nada extra."
   ]
  },
  {
   "cell_type": "code",
   "execution_count": 19,
   "id": "6763debd",
   "metadata": {},
   "outputs": [
    {
     "name": "stdout",
     "output_type": "stream",
     "text": [
      "Valores faltantes por columna:\n",
      "Series([], dtype: int64)\n"
     ]
    }
   ],
   "source": [
    "missing_values = bank_numeric.isna().sum()\n",
    "print('Valores faltantes por columna:')\n",
    "print(missing_values[missing_values > 0])\n"
   ]
  },
  {
   "cell_type": "markdown",
   "id": "f641fa55",
   "metadata": {},
   "source": [
    "## 3. Estandarizar los datos\n",
    "\n",
    "Escalo las columnas numericas para que todas esten en la misma escala antes de aplicar K-Means."
   ]
  },
  {
   "cell_type": "code",
   "execution_count": 20,
   "id": "19d77066",
   "metadata": {},
   "outputs": [
    {
     "name": "stdout",
     "output_type": "stream",
     "text": [
      "Shape de los datos escalados: (41188, 10)\n"
     ]
    }
   ],
   "source": [
    "scaler = StandardScaler()\n",
    "scaled_data = scaler.fit_transform(bank_numeric)\n",
    "\n",
    "print('Shape de los datos escalados:', scaled_data.shape)\n"
   ]
  },
  {
   "cell_type": "markdown",
   "id": "e9f439df",
   "metadata": {},
   "source": "## 4. Elegir un número de clusters\n\nUso el método del codo con la librería Yellowbrick, que ya calcula la *distortion* (SSE normalizado) y dibuja la curva automáticamente. Así puedo ver visualmente dónde la curva deja de bajar tanto y escoger un `k` razonable."
  },
  {
   "cell_type": "code",
   "execution_count": 21,
   "id": "107c310f",
   "metadata": {},
   "outputs": [
    {
     "data": {
      "image/png": "[encoded data removed]",
      "text/plain": [
       "<Figure size 600x400 with 1 Axes>"
      ]
     },
     "metadata": {},
     "output_type": "display_data"
    }
   ],
   "source": "km = KMeans(n_init=10, random_state=42)\nvisualizer = KElbowVisualizer(km, k=(2, 11), metric='distortion', timings=False)\nvisualizer.fit(scaled_data)\nvisualizer.show()\n"
  },
  {
   "cell_type": "markdown",
   "id": "053b1fa1",
   "metadata": {},
   "source": [
    "## 5. Entrenar K-Means\n",
    "\n",
    "Elijo `k = 3` como punto de partida y entreno el modelo para obtener las etiquetas de cada cliente."
   ]
  },
  {
   "cell_type": "code",
   "execution_count": 22,
   "id": "2ad8cf59",
   "metadata": {},
   "outputs": [
    {
     "name": "stdout",
     "output_type": "stream",
     "text": [
      "Clientes por cluster:\n",
      "cluster\n",
      "0    12003\n",
      "1    27645\n",
      "2     1540\n",
      "Name: count, dtype: int64\n"
     ]
    }
   ],
   "source": [
    "kmeans = KMeans(n_clusters=3, random_state=42, n_init=10)\n",
    "clusters = kmeans.fit_predict(scaled_data)\n",
    "\n",
    "bank_numeric['cluster'] = clusters\n",
    "print('Clientes por cluster:')\n",
    "print(bank_numeric['cluster'].value_counts().sort_index())\n"
   ]
  },
  {
   "cell_type": "markdown",
   "id": "f8bf0051",
   "metadata": {},
   "source": [
    "Tambien reviso los promedios de cada cluster para ver que los diferencia."
   ]
  },
  {
   "cell_type": "code",
   "execution_count": 23,
   "id": "ed2c4ccb",
   "metadata": {},
   "outputs": [
    {
     "data": {
      "text/html": [
       "<div>\n",
       "<style scoped>\n",
       "    .dataframe tbody tr th:only-of-type {\n",
       "        vertical-align: middle;\n",
       "    }\n",
       "\n",
       "    .dataframe tbody tr th {\n",
       "        vertical-align: top;\n",
       "    }\n",
       "\n",
       "    .dataframe thead th {\n",
       "        text-align: right;\n",
       "    }\n",
       "</style>\n",
       "<table border=\"1\" class=\"dataframe\">\n",
       "  <thead>\n",
       "    <tr style=\"text-align: right;\">\n",
       "      <th></th>\n",
       "      <th>age</th>\n",
       "      <th>duration</th>\n",
       "      <th>campaign</th>\n",
       "      <th>pdays</th>\n",
       "      <th>previous</th>\n",
       "      <th>emp.var.rate</th>\n",
       "      <th>cons.price.idx</th>\n",
       "      <th>cons.conf.idx</th>\n",
       "      <th>euribor3m</th>\n",
       "      <th>nr.employed</th>\n",
       "    </tr>\n",
       "    <tr>\n",
       "      <th>cluster</th>\n",
       "      <th></th>\n",
       "      <th></th>\n",
       "      <th></th>\n",
       "      <th></th>\n",
       "      <th></th>\n",
       "      <th></th>\n",
       "      <th></th>\n",
       "      <th></th>\n",
       "      <th></th>\n",
       "      <th></th>\n",
       "    </tr>\n",
       "  </thead>\n",
       "  <tbody>\n",
       "    <tr>\n",
       "      <th>0</th>\n",
       "      <td>39.393318</td>\n",
       "      <td>263.639840</td>\n",
       "      <td>2.124802</td>\n",
       "      <td>999.000000</td>\n",
       "      <td>0.317921</td>\n",
       "      <td>-2.025594</td>\n",
       "      <td>92.986577</td>\n",
       "      <td>-43.189461</td>\n",
       "      <td>1.202373</td>\n",
       "      <td>5077.975115</td>\n",
       "    </tr>\n",
       "    <tr>\n",
       "      <th>1</th>\n",
       "      <td>40.192838</td>\n",
       "      <td>252.392512</td>\n",
       "      <td>2.800940</td>\n",
       "      <td>999.000000</td>\n",
       "      <td>0.025249</td>\n",
       "      <td>1.117819</td>\n",
       "      <td>93.843861</td>\n",
       "      <td>-39.456763</td>\n",
       "      <td>4.818496</td>\n",
       "      <td>5213.419671</td>\n",
       "    </tr>\n",
       "    <tr>\n",
       "      <th>2</th>\n",
       "      <td>41.910390</td>\n",
       "      <td>322.326623</td>\n",
       "      <td>1.829870</td>\n",
       "      <td>22.134416</td>\n",
       "      <td>1.694805</td>\n",
       "      <td>-2.088442</td>\n",
       "      <td>93.352634</td>\n",
       "      <td>-38.334935</td>\n",
       "      <td>0.983318</td>\n",
       "      <td>5028.540909</td>\n",
       "    </tr>\n",
       "  </tbody>\n",
       "</table>\n",
       "</div>"
      ],
      "text/plain": [
       "               age    duration  campaign       pdays  previous  emp.var.rate  \\\n",
       "cluster                                                                        \n",
       "0        39.393318  263.639840  2.124802  999.000000  0.317921     -2.025594   \n",
       "1        40.192838  252.392512  2.800940  999.000000  0.025249      1.117819   \n",
       "2        41.910390  322.326623  1.829870   22.134416  1.694805     -2.088442   \n",
       "\n",
       "         cons.price.idx  cons.conf.idx  euribor3m  nr.employed  \n",
       "cluster                                                         \n",
       "0             92.986577     -43.189461   1.202373  5077.975115  \n",
       "1             93.843861     -39.456763   4.818496  5213.419671  \n",
       "2             93.352634     -38.334935   0.983318  5028.540909  "
      ]
     },
     "execution_count": 23,
     "metadata": {},
     "output_type": "execute_result"
    }
   ],
   "source": [
    "cluster_means = bank_numeric.groupby('cluster').mean()\n",
    "cluster_means\n"
   ]
  },
  {
   "cell_type": "markdown",
   "id": "617dcdd4",
   "metadata": {},
   "source": [
    "## 6. Visualizar los clusters"
   ]
  },
  {
   "cell_type": "code",
   "execution_count": 24,
   "id": "5a1beffd",
   "metadata": {},
   "outputs": [
    {
     "data": {
      "image/png": "[encoded data removed]",
      "text/plain": [
       "<Figure size 600x500 with 2 Axes>"
      ]
     },
     "metadata": {},
     "output_type": "display_data"
    }
   ],
   "source": [
    "pca = PCA(n_components=2, random_state=42)\n",
    "pca_components = pca.fit_transform(scaled_data)\n",
    "\n",
    "plt.figure(figsize=(6, 5))\n",
    "scatter = plt.scatter(\n",
    "    pca_components[:, 0],\n",
    "    pca_components[:, 1],\n",
    "    c=clusters,\n",
    "    cmap='tab10',\n",
    "    alpha=0.6\n",
    ")\n",
    "plt.title('Clusters en 2D con PCA')\n",
    "plt.xlabel('Componente principal 1')\n",
    "plt.ylabel('Componente principal 2')\n",
    "plt.colorbar(scatter, label='Cluster')\n",
    "plt.tight_layout()\n",
    "plt.show()\n"
   ]
  },
  {
   "cell_type": "markdown",
   "metadata": {},
   "source": "## 7. Evaluar el clustering con silhouette score\n\nCalculo el silhouette score para tener una idea de cuanto se separan los clusters entre si. Valores mas cercanos a 1 indican grupos bien definidos y valores cerca de 0 significan que se mezclan mucho."
  },
  {
   "cell_type": "code",
   "execution_count": null,
   "metadata": {},
   "outputs": [],
   "source": "silhouette = silhouette_score(scaled_data, clusters)\nprint(f'Silhouette score promedio: {silhouette:.3f}')\n"
  },
  {
   "cell_type": "markdown",
   "metadata": {},
   "source": "Tambien hago un histograma y un grafico tipo \"cuchillas\" del silhouette score para ver la distribucion y como queda cada cluster."
  },
  {
   "cell_type": "code",
   "execution_count": null,
   "metadata": {},
   "outputs": [],
   "source": "sample_silhouette = silhouette_samples(scaled_data, clusters)\nplt.figure(figsize=(6, 4))\nplt.hist(sample_silhouette, bins=30, color='skyblue', edgecolor='black')\nplt.axvline(silhouette, color='red', linestyle='--', label='Promedio')\nplt.title('Distribucion del silhouette score')\nplt.xlabel('Silhouette score individual')\nplt.ylabel('Cantidad de clientes')\nplt.legend()\nplt.tight_layout()\nplt.show()\n"
  },
  {
   "cell_type": "markdown",
   "metadata": {},
   "source": "Tambien muestro el diagrama de siluetas (parece como cuchillas) para ver cada cluster y que tan ancho es su puntaje."
  },
  {
   "cell_type": "code",
   "execution_count": null,
   "metadata": {},
   "outputs": [],
   "source": "n_clusters = len(np.unique(clusters))\nfig, ax = plt.subplots(figsize=(7, 5))\ny_lower = 10\nfor cluster_id in range(n_clusters):\n    cluster_sil = sample_silhouette[clusters == cluster_id]\n    cluster_sil.sort()\n    size_cluster = cluster_sil.shape[0]\n    y_upper = y_lower + size_cluster\n    color = cm.nipy_spectral(float(cluster_id) / n_clusters)\n    ax.fill_betweenx(\n        np.arange(y_lower, y_upper),\n        0,\n        cluster_sil,\n        facecolor=color,\n        alpha=0.7\n    )\n    ax.text(-0.05, y_lower + 0.5 * size_cluster, str(cluster_id))\n    y_lower = y_upper + 10\nax.axvline(x=silhouette, color='red', linestyle='--', label='Promedio')\nax.set_title('Silhouette plot por cluster')\nax.set_xlabel('Silhouette score individual')\nax.set_ylabel('Clientes ordenados por cluster')\nax.legend()\nplt.tight_layout()\nplt.show()\n"
  },
  {
   "cell_type": "markdown",
   "metadata": {},
   "source": "## 8. Dendrograma simple\n\nPara terminar, tomo una muestra de clientes y genero un dendrograma usando clustering jerarquico. Esto ayuda a ver como se van uniendo los grupos paso a paso."
  },
  {
   "cell_type": "code",
   "execution_count": null,
   "metadata": {},
   "outputs": [],
   "source": "sample_size = 200\nsample_data = bank[numeric_cols].sample(n=sample_size, random_state=42)\nsample_scaled = scaler.transform(sample_data)\n\nlinked = linkage(sample_scaled, method='ward')\n\nplt.figure(figsize=(8, 5))\ndendrogram(\n    linked,\n    truncate_mode='lastp',\n    p=20,\n    leaf_rotation=45,\n    leaf_font_size=10\n)\nplt.title('Dendrograma (muestra de clientes)')\nplt.xlabel('Grupos fusionados')\nplt.ylabel('Distancia (Ward)')\nplt.tight_layout()\nplt.show()\n"
  },
  {
   "cell_type": "markdown",
   "metadata": {},
   "source": "## 9. Probar DBSCAN\n\nComo alternativa a K-Means, pruebo DBSCAN que detecta densidades. Uso un `eps` moderado y `min_samples` para ver si encuentra grupos y quantos puntos quedan como ruido."
  },
  {
   "cell_type": "code",
   "execution_count": null,
   "metadata": {},
   "outputs": [],
   "source": "dbscan = DBSCAN(eps=1.5, min_samples=15)\ndbscan_labels = dbscan.fit_predict(scaled_data)\n\nunique_labels, counts = np.unique(dbscan_labels, return_counts=True)\nprint('Clusters encontrados (incluye -1 como ruido):')\nfor label, count in zip(unique_labels, counts):\n    print(f'Cluster {label}: {count}')\n"
  },
  {
   "cell_type": "markdown",
   "metadata": {},
   "source": "Tambien dibujo los resultados de DBSCAN con las mismas componentes PCA para ver donde aparecen los grupos y si hay mucho ruido."
  },
  {
   "cell_type": "code",
   "execution_count": null,
   "metadata": {},
   "outputs": [],
   "source": "unique_labels = np.unique(dbscan_labels)\npalette = cm.get_cmap('tab10', len(unique_labels))\nlabel_colors = {label: palette(i) for i, label in enumerate(unique_labels)}\n\nplt.figure(figsize=(6, 5))\nfor label in unique_labels:\n    mask = dbscan_labels == label\n    color = label_colors[label]\n    plt.scatter(\n        pca_components[mask, 0],\n        pca_components[mask, 1],\n        s=20,\n        alpha=0.6,\n        color=color,\n        label='Cluster ' + str(label) if label != -1 else 'Ruido (-1)'\n    )\nplt.title('DBSCAN en 2D (PCA)')\nplt.xlabel('Componente principal 1')\nplt.ylabel('Componente principal 2')\nplt.legend(loc='best')\nplt.tight_layout()\nplt.show()\n"
  }
 ],
 "metadata": {
  "kernelspec": {
   "display_name": "Python 3",
   "language": "python",
   "name": "python3"
  },
  "language_info": {
   "name": "python",
   "version": "3.x"
  }
 },
 "nbformat": 4,
 "nbformat_minor": 5
}